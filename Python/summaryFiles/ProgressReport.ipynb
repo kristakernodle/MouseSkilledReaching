{
 "cells": [
  {
   "cell_type": "code",
   "execution_count": 12,
   "metadata": {
    "pycharm": {
     "is_executing": false
    }
   },
   "outputs": [],
   "source": [
    "import os\n",
    "import platform\n",
    "import re\n",
    "from animalInfo import animals as all_mice"
   ]
  },
  {
   "cell_type": "code",
   "execution_count": 2,
   "metadata": {
    "pycharm": {
     "is_executing": false,
     "name": "#%%\n"
    }
   },
   "outputs": [],
   "source": [
    "sharedx_animal_dir = 'Neuro-Leventhal/data/mouseSkilledReaching/'\n",
    "scorers = set(['AB', 'AC', 'DL', 'JM', 'KF', 'KK'])"
   ]
  },
  {
   "cell_type": "code",
   "execution_count": 3,
   "metadata": {
    "pycharm": {
     "is_executing": false
    }
   },
   "outputs": [],
   "source": [
    "OPERATING_SYSTEM = platform.platform()\n",
    "\n",
    "## Update this section as you run the code on other computers\n",
    "if 'Windows' in OPERATING_SYSTEM:\n",
    "    animals_base_dir = 'X:/' + sharedx_animal_dir\n",
    "elif ('Debian' in OPERATING_SYSTEM) or ('Darwin' in OPERATING_SYSTEM):\n",
    "    animals_base_dir = '/Volumes/SharedX/' + sharedx_animal_dir\n",
    "else:\n",
    "    animals_base_dir = input('Please provide the FULL PATH for the directory containing all data, organized by animal: ')\n",
    "\n",
    "all_csv_fullpath = []\n",
    "krista_scored_fullpath = []\n",
    "\n",
    "all_csv_files = []\n",
    "krista_scored_files = []\n",
    "duplicate_with_krista = []\n",
    "ugrad_scored_files = []\n",
    "\n",
    "et_files = [entry for entry in os.listdir(animals_base_dir) if entry.startswith('et')]"
   ]
  },
  {
   "cell_type": "code",
   "execution_count": 4,
   "metadata": {},
   "outputs": [],
   "source": [
    "# Renaming and moving files for better processing\n",
    "for etdir in et_files:\n",
    "    if not etdir.startswith('et'):\n",
    "        continue\n",
    "        \n",
    "    eartag = etdir.strip('et')\n",
    "    et_dir = animals_base_dir + etdir\n",
    "    et_training_dir = et_dir + '/Training/'\n",
    "    et_blindscoring_dir = et_dir + '/BlindedScoring/'\n",
    "    if not os.path.isdir(et_training_dir) or not os.path.isdir(et_blindscoring_dir):\n",
    "        continue\n",
    "    \n",
    "    for blind_file in os.listdir(et_blindscoring_dir):\n",
    "        folder_id = blind_file.split('_')[0:2]\n",
    "        for item in os.listdir(et_training_dir):\n",
    "            split_item = item.strip('et').split('_')\n",
    "            if folder_id == split_item[0:2]:\n",
    "                os.rename(et_blindscoring_dir + blind_file, et_training_dir + item + '/' + blind_file)\n"
   ]
  },
  {
   "cell_type": "code",
   "execution_count": 5,
   "metadata": {
    "pycharm": {
     "is_executing": false
    }
   },
   "outputs": [],
   "source": [
    "csv_files_frames = []\n",
    "csv_files_scored = []\n",
    "\n",
    "for etdir in et_files:\n",
    "\n",
    "    eartag = etdir.strip('et')\n",
    "    et_dir = animals_base_dir + etdir\n",
    "    et_training_dir = et_dir + '/Training/'\n",
    "    \n",
    "    if not os.path.isdir(et_training_dir): continue\n",
    "    if eartag == '7081': continue\n",
    "        \n",
    "    for item in os.listdir(et_training_dir):\n",
    "        trainingday_dir = et_training_dir + item + '/'\n",
    "        \n",
    "        if not os.path.isdir(trainingday_dir): continue\n",
    "        \n",
    "        these_csv_files = [file for file in os.listdir(trainingday_dir) if file.endswith('.csv')]\n",
    "        \n",
    "        for file in these_csv_files:\n",
    "            if re.search('\\S+_\\S+_\\S+_\\S+_\\S+', file):\n",
    "                csv_files_scored.append(file)\n",
    "                continue\n",
    "            csv_files_frames.append(file)"
   ]
  },
  {
   "cell_type": "code",
   "execution_count": 6,
   "metadata": {},
   "outputs": [],
   "source": [
    "all_scored_files = dict()\n",
    "for file in csv_files_scored:\n",
    "    split_file = file.split('_')\n",
    "    filename = '_'.join(split_file[0:4])\n",
    "    scorer = split_file[4]\n",
    "    scorer = scorer[0:2]\n",
    "    if filename not in all_scored_files.keys():\n",
    "        all_scored_files[filename] = [scorer]\n",
    "        continue\n",
    "    current_scorers = all_scored_files[filename]\n",
    "    current_scorers.append(scorer)\n",
    "    all_scored_files[filename] = current_scorers"
   ]
  },
  {
   "cell_type": "code",
   "execution_count": 7,
   "metadata": {
    "scrolled": true
   },
   "outputs": [
    {
     "name": "stdout",
     "output_type": "stream",
     "text": [
      "32.29278794402583\n"
     ]
    }
   ],
   "source": [
    "total_files_that_need_scoring = len(csv_files_frames)\n",
    "total_files_scored = len(all_scored_files)\n",
    "percent_complete = total_files_scored/total_files_that_need_scoring * 100\n",
    "print(percent_complete)"
   ]
  },
  {
   "cell_type": "code",
   "execution_count": 27,
   "metadata": {
    "pycharm": {
     "is_executing": false
    }
   },
   "outputs": [
    {
     "name": "stdout",
     "output_type": "stream",
     "text": [
      "I have 12 wildtype animals out of 15 needed\n",
      "I have 7 knock-out animals out of 15 needed\n"
     ]
    }
   ],
   "source": [
    "WT = 0\n",
    "KO = 0\n",
    "for mouse, attributes in all_mice.items():\n",
    "    if attributes[0] == 'WT': WT += 1\n",
    "    elif attributes[0] == 'KO': KO += 1\n",
    "    else: print('check genotype for mouse: ' + mouse)\n",
    "print('I have {} wildtype animals out of 15 needed'.format(WT))\n",
    "print('I have {} knock-out animals out of 15 needed'.format(KO))"
   ]
  },
  {
   "cell_type": "code",
   "execution_count": null,
   "metadata": {},
   "outputs": [],
   "source": []
  }
 ],
 "metadata": {
  "kernelspec": {
   "display_name": "Python 3",
   "language": "python",
   "name": "python3"
  },
  "language_info": {
   "codemirror_mode": {
    "name": "ipython",
    "version": 3
   },
   "file_extension": ".py",
   "mimetype": "text/x-python",
   "name": "python",
   "nbconvert_exporter": "python",
   "pygments_lexer": "ipython3",
   "version": "3.7.6"
  },
  "pycharm": {
   "stem_cell": {
    "cell_type": "raw",
    "metadata": {
     "collapsed": false
    },
    "source": []
   }
  }
 },
 "nbformat": 4,
 "nbformat_minor": 2
}
