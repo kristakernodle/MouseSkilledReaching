{
 "cells": [
  {
   "cell_type": "code",
   "execution_count": 2,
   "metadata": {},
   "outputs": [],
   "source": [
    "import os\n",
    "import platform"
   ]
  },
  {
   "cell_type": "code",
   "execution_count": 4,
   "metadata": {},
   "outputs": [],
   "source": [
    "OPERATING_SYSTEM = platform.platform()\n",
    "\n",
    "## Update this section as you run the code on other computers\n",
    "if 'Windows' in OPERATING_SYSTEM:\n",
    "    animals_base_dir = 'X:/Neuro-Leventhal/data/mouseSkilledReaching/'\n",
    "elif 'Debian' in OPERATING_SYSTEM:\n",
    "    animals_base_dir = '/Volumes/SharedX/Neuro-Leventhal/data/mouseSkilledReaching/'\n",
    "else:\n",
    "    animals_base_dir = input('Please provide the full path for the directory containing all data, organized by animal: ')\n",
    "\n",
    "all_csv_fullpath = []\n",
    "krista_scored_fullpath = []\n",
    "\n",
    "all_csv_files = []\n",
    "krista_scored_files = []\n",
    "duplicate_with_krista = []\n",
    "ugrad_scored_files = []\n",
    "\n",
    "et_files = [entry for entry in os.listdir(animals_base_dir) if entry.startswith('et')]"
   ]
  },
  {
   "cell_type": "code",
   "execution_count": null,
   "metadata": {},
   "outputs": [],
   "source": [
    "def check_scorer(filename):\n",
    "    if 'AB' in filename:\n",
    "    elif 'AC' in filename:\n",
    "    elif 'DL' in filename:\n",
    "    elif 'KF' in filename:\n",
    "    elif 'KK' in filename:\n",
    "    else:\n",
    "        print('ERROR: This file does not have a scorer')"
   ]
  },
  {
   "cell_type": "code",
   "execution_count": 36,
   "metadata": {},
   "outputs": [],
   "source": [
    "AC_scored = []\n",
    "AB_scored = []\n",
    "all_blinded_files = []\n",
    "\n",
    "for etdir in et_files:\n",
    "\n",
    "    eartag = etdir.strip('et')\n",
    "\n",
    "    if not etdir.startswith('et'):\n",
    "        continue\n",
    "\n",
    "    et_dir = animals_base_dir + etdir\n",
    "    if not os.path.isdir(et_dir):\n",
    "        continue\n",
    "\n",
    "    et_training_dir = et_dir + '/Training/'\n",
    "    if not os.path.isdir(et_training_dir):\n",
    "        continue\n",
    "\n",
    "    for item in os.listdir(et_training_dir):\n",
    "        trainingday_dir = et_training_dir + item\n",
    "        if not os.path.isdir(trainingday_dir):\n",
    "            continue\n",
    "\n",
    "        scored_csv = [file for file in os.listdir(trainingday_dir) if 'Scored' in file]\n",
    "        available_csv = [file for file in os.listdir(trainingday_dir) if ('Scored' not in file and file.endswith('.csv'))]\n",
    "        for file in available_csv:\n",
    "            all_csv_fullpath.append(trainingday_dir + '/' + file)\n",
    "            all_csv_files.append(file)\n",
    "        for file in scored_csv:\n",
    "            krista_scored_fullpath.append(trainingday_dir + '/' + file)\n",
    "            krista_scored_files.append(file.strip('_Scored.csv'))\n",
    "\n",
    "    et_blinded_dir = et_dir + '/BlindedScoring/'\n",
    "    if os.path.isdir(et_blinded_dir):\n",
    "        blindedScoring = True\n",
    "        blinded_files = [file.split('_')[:-1] for file in os.listdir(et_blinded_dir)]\n",
    "        for file in os.listdir(et_blinded_dir):\n",
    "            all_blinded_files.append(file)\n",
    "            if file in krista_scored_files:\n",
    "                duplicate_with_krista.append(file)\n",
    "                if file.endswith('AB'):\n",
    "                    AB_scored.append(file)\n",
    "                else: AC_scored.append(file)\n",
    "                continue\n",
    "            else:\n",
    "                blind_file = file.split('_')\n",
    "                blind_file = '_'.join(blind_file[:-1])\n",
    "                if blind_file in krista_scored_files:\n",
    "                    duplicate_with_krista.append(blind_file)\n",
    "                    if file.endswith('AB'):\n",
    "                        AB_scored.append(blind_file)\n",
    "                    else: AC_scored.append(blind_file)\n",
    "                    continue\n",
    "                else:\n",
    "                    ugrad_scored_files.append(file)"
   ]
  },
  {
   "cell_type": "code",
   "execution_count": 25,
   "metadata": {},
   "outputs": [],
   "source": [
    "all_csv_stripped = []\n",
    "krista_scored_stripped = []\n",
    "for file in all_csv_files:\n",
    "    try:\n",
    "        et, date, cam, vid = file.split('_')\n",
    "        all_csv_stripped.append('_'.join([et,date,vid[:-4]]))\n",
    "    except ValueError:\n",
    "        all_csv_stripped.append(file)\n",
    "for file in krista_scored_files:\n",
    "    try:\n",
    "        et, date, cam, vid = file.split('_')\n",
    "        krista_scored_stripped.append('_'.join([et,date,vid[:-4]]))\n",
    "    except ValueError:\n",
    "        krista_scored_stripped.append(file)"
   ]
  },
  {
   "cell_type": "code",
   "execution_count": 33,
   "metadata": {},
   "outputs": [],
   "source": [
    "not_krista_scored = []\n",
    "AC_AB_scored = 0\n",
    "for file in ugrad_scored_files:\n",
    "    \n",
    "    file_stripped = '_'.join(file.split('_')[:-1])\n",
    "    \n",
    "    try:\n",
    "        et, date, cam, vid = file_stripped.split('_')\n",
    "        file_stripped = '_'.join([et,date,vid])\n",
    "        if file_stripped not in krista_scored_stripped:\n",
    "            if file_stripped not in not_krista_scored:\n",
    "                not_krista_scored.append(file)\n",
    "                if file.endswith('AB'):\n",
    "                    AB_scored.append(file)\n",
    "                else: AC_scored.append(file)\n",
    "            else:\n",
    "                AC_AB_scored += 1\n",
    "    except ValueError:\n",
    "        if file_stripped not in krista_scored_stripped:\n",
    "            if file_stripped not in not_krista_scored:\n",
    "                not_krista_scored.append(file)\n",
    "                if file.endswith('AB'):\n",
    "                    AB_scored.append(file)\n",
    "                else: AC_scored.append(file)\n",
    "            else:\n",
    "                AC_AB_scored += 1"
   ]
  },
  {
   "cell_type": "code",
   "execution_count": 34,
   "metadata": {},
   "outputs": [
    {
     "name": "stdout",
     "output_type": "stream",
     "text": [
      "0\n"
     ]
    }
   ],
   "source": [
    "print(AC_AB_scored)"
   ]
  },
  {
   "cell_type": "code",
   "execution_count": 62,
   "metadata": {},
   "outputs": [],
   "source": [
    "AB_scored = []\n",
    "AC_scored = []\n",
    "all_blinded_files = [file.strip('.csv') for file in all_blinded_files]\n",
    "for file in all_blinded_files:\n",
    "    if file.split('_')[-1] == 'AB':\n",
    "        AB_scored.append(file.strip('_AB'))\n",
    "        continue\n",
    "    elif file.split('_')[-1] == 'AC':\n",
    "        AC_scored.append(file.strip('_AC'))\n",
    "        continue\n",
    "    print('Filename convention error')\n",
    "    print(file)\n",
    "    \n",
    "orig_AB_scored = AB_scored\n",
    "orig_AC_scored = AC_scored"
   ]
  },
  {
   "cell_type": "code",
   "execution_count": 49,
   "metadata": {},
   "outputs": [],
   "source": [
    "AB_only_scored = AB_scored\n",
    "AC_only_scored = AC_scored\n",
    "for file in AB_scored:\n",
    "    if file in AC_scored:\n",
    "        AB_only_scored.remove(file)\n",
    "        AC_only_scored.remove(file)\n",
    "        AC_AB_scored += 1"
   ]
  },
  {
   "cell_type": "code",
   "execution_count": 52,
   "metadata": {},
   "outputs": [],
   "source": [
    "for file in AB_scored:\n",
    "    try:\n",
    "        et, date, cam, vid = file.split('_')\n",
    "        if '_'.join([et, date, vid]) in AC_scored:\n",
    "            AB_only_scored.remove(file)\n",
    "            AC_only_scored.remove(file)\n",
    "            AC_AB_scored += 1\n",
    "    except:\n",
    "        continue"
   ]
  },
  {
   "cell_type": "code",
   "execution_count": 63,
   "metadata": {},
   "outputs": [
    {
     "data": {
      "text/plain": [
       "147"
      ]
     },
     "execution_count": 63,
     "metadata": {},
     "output_type": "execute_result"
    }
   ],
   "source": [
    "len(AB_scored)"
   ]
  },
  {
   "cell_type": "code",
   "execution_count": 54,
   "metadata": {},
   "outputs": [
    {
     "data": {
      "text/plain": [
       "30"
      ]
     },
     "execution_count": 54,
     "metadata": {},
     "output_type": "execute_result"
    }
   ],
   "source": [
    "AC_AB_scored"
   ]
  },
  {
   "cell_type": "code",
   "execution_count": 56,
   "metadata": {},
   "outputs": [
    {
     "data": {
      "text/plain": [
       "103"
      ]
     },
     "execution_count": 56,
     "metadata": {},
     "output_type": "execute_result"
    }
   ],
   "source": [
    "len(AB_only_scored)\n"
   ]
  },
  {
   "cell_type": "code",
   "execution_count": 57,
   "metadata": {},
   "outputs": [
    {
     "data": {
      "text/plain": [
       "33"
      ]
     },
     "execution_count": 57,
     "metadata": {},
     "output_type": "execute_result"
    }
   ],
   "source": [
    "len(AC_only_scored)\n"
   ]
  },
  {
   "cell_type": "code",
   "execution_count": 58,
   "metadata": {},
   "outputs": [
    {
     "data": {
      "text/plain": [
       "103"
      ]
     },
     "execution_count": 58,
     "metadata": {},
     "output_type": "execute_result"
    }
   ],
   "source": [
    "len(AB_scored)"
   ]
  },
  {
   "cell_type": "code",
   "execution_count": 64,
   "metadata": {},
   "outputs": [
    {
     "data": {
      "text/plain": [
       "63"
      ]
     },
     "execution_count": 64,
     "metadata": {},
     "output_type": "execute_result"
    }
   ],
   "source": [
    "len(AC_scored)"
   ]
  },
  {
   "cell_type": "code",
   "execution_count": null,
   "metadata": {},
   "outputs": [],
   "source": []
  }
 ],
 "metadata": {
  "kernelspec": {
   "display_name": "Python 3",
   "language": "python",
   "name": "python3"
  },
  "language_info": {
   "codemirror_mode": {
    "name": "ipython",
    "version": 3
   },
   "file_extension": ".py",
   "mimetype": "text/x-python",
   "name": "python",
   "nbconvert_exporter": "python",
   "pygments_lexer": "ipython3",
   "version": "3.7.3"
  }
 },
 "nbformat": 4,
 "nbformat_minor": 2
}
